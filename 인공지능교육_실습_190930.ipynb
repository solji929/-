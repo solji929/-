{
  "nbformat": 4,
  "nbformat_minor": 0,
  "metadata": {
    "colab": {
      "name": "인공지능교육_실습_190930.ipynb",
      "provenance": [],
      "collapsed_sections": [],
      "include_colab_link": true
    },
    "kernelspec": {
      "name": "python3",
      "display_name": "Python 3"
    }
  },
  "cells": [
    {
      "cell_type": "markdown",
      "metadata": {
        "id": "view-in-github",
        "colab_type": "text"
      },
      "source": [
        "<a href=\"https://colab.research.google.com/github/solji929/Edu_AI_camp/blob/master/%EC%9D%B8%EA%B3%B5%EC%A7%80%EB%8A%A5%EA%B5%90%EC%9C%A1_%EC%8B%A4%EC%8A%B5_190930.ipynb\" target=\"_parent\"><img src=\"https://colab.research.google.com/assets/colab-badge.svg\" alt=\"Open In Colab\"/></a>"
      ]
    },
    {
      "cell_type": "code",
      "metadata": {
        "id": "iO_B5Cu5n9hc",
        "colab_type": "code",
        "colab": {}
      },
      "source": [
        "import numpy as np\n",
        "import pandas as pd\n",
        "import matplotlib.pyplot as plt"
      ],
      "execution_count": 0,
      "outputs": []
    },
    {
      "cell_type": "code",
      "metadata": {
        "id": "Kk9-zhevpjop",
        "colab_type": "code",
        "outputId": "50f692d1-5b66-4ed5-d452-7e23cf7fbd60",
        "colab": {
          "base_uri": "https://localhost:8080/",
          "height": 269
        }
      },
      "source": [
        "n = 20000\n",
        "m = 4\n",
        "xx = 0\n",
        "for i in range(m):\n",
        "  x = np.random.randint(1,7,n)\n",
        "  xx += x\n",
        "plt.hist(xx)\n",
        "plt.show()"
      ],
      "execution_count": 0,
      "outputs": [
        {
          "output_type": "display_data",
          "data": {
            "image/png": "[encoded data removed]",
            "text/plain": [
              "<Figure size 432x288 with 1 Axes>"
            ]
          },
          "metadata": {
            "tags": []
          }
        }
      ]
    },
    {
      "cell_type": "code",
      "metadata": {
        "id": "tIsANRF3qfHH",
        "colab_type": "code",
        "outputId": "19559de0-3a57-46bf-a509-dd87ee8ce3a2",
        "colab": {
          "base_uri": "https://localhost:8080/",
          "height": 269
        }
      },
      "source": [
        "n = 20000\n",
        "m = 32\n",
        "sum = 0\n",
        "for i in range(m):\n",
        "  x = np.random.randint(1,7,n)\n",
        "  sum += x\n",
        "plt.hist(sum, bins = 5*m+1)\n",
        "plt.show()"
      ],
      "execution_count": 0,
      "outputs": [
        {
          "output_type": "display_data",
          "data": {
            "image/png": "[encoded data removed]",
            "text/plain": [
              "<Figure size 432x288 with 1 Axes>"
            ]
          },
          "metadata": {
            "tags": []
          }
        }
      ]
    },
    {
      "cell_type": "code",
      "metadata": {
        "id": "aC6xhplPw_25",
        "colab_type": "code",
        "outputId": "4a1b0daf-230a-493c-a9e4-0dd4af8d0de3",
        "colab": {
          "base_uri": "https://localhost:8080/",
          "height": 35
        }
      },
      "source": [
        "# 사각형 내부에 원이 있고, 임의로 점을 찍을 경우 원내부에 찍힐 확률은 pi 값일 것.\n",
        "n = 10000\n",
        "x = np.random.rand(n)\n",
        "y = np.random.rand(n)\n",
        "(x**2 + y**2 <1).mean()*4"
      ],
      "execution_count": 0,
      "outputs": [
        {
          "output_type": "execute_result",
          "data": {
            "text/plain": [
              "3.1256"
            ]
          },
          "metadata": {
            "tags": []
          },
          "execution_count": 92
        }
      ]
    },
    {
      "cell_type": "code",
      "metadata": {
        "id": "9eErWHQC0GHh",
        "colab_type": "code",
        "outputId": "5bbb6722-2f7b-4087-fcf8-2ba26c71a41b",
        "colab": {
          "base_uri": "https://localhost:8080/",
          "height": 396
        }
      },
      "source": [
        "plt.figure(figsize = (6,6))\n",
        "plt.scatter(x,y, s = 1)\n",
        "xx = np.linspace(0,1,100)\n",
        "plt.plot(xx, (1-xx**2)**0.5, c = 'r')"
      ],
      "execution_count": 0,
      "outputs": [
        {
          "output_type": "execute_result",
          "data": {
            "text/plain": [
              "[<matplotlib.lines.Line2D at 0x7f2ce97d49b0>]"
            ]
          },
          "metadata": {
            "tags": []
          },
          "execution_count": 93
        },
        {
          "output_type": "display_data",
          "data": {
            "image/png": "[encoded data removed]",
            "text/plain": [
              "<Figure size 432x432 with 1 Axes>"
            ]
          },
          "metadata": {
            "tags": []
          }
        }
      ]
    },
    {
      "cell_type": "code",
      "metadata": {
        "id": "VhxIW3LLDU7N",
        "colab_type": "code",
        "colab": {}
      },
      "source": [
        "from google.colab import drive\n",
        "drive.mount('/content/drive')"
      ],
      "execution_count": 0,
      "outputs": []
    },
    {
      "cell_type": "markdown",
      "metadata": {
        "id": "_vUOhpILJBuG",
        "colab_type": "text"
      },
      "source": [
        "list -> [ ] 순서가 있고 데이터를 넣고 빼기 좋다.<br>\n",
        "dictionary -> { } 순서 상관X. key value<br>\n"
      ]
    },
    {
      "cell_type": "markdown",
      "metadata": {
        "id": "tZSigofhci-C",
        "colab_type": "text"
      },
      "source": [
        "* 예측은 Regrassion, classification 로 나뉜다.\n",
        "\n",
        "  1) Classfication은 Distance로 분류한다. ($w1x1 + w2x2 + w3x3 + b > 0$)\n",
        "  \n",
        "    - decision boundary\n",
        "  \n",
        "  2) Regrassion\n",
        "  \n",
        "    - score\n",
        "  \n",
        "  \n",
        "1.   모델의 종류<br>\n",
        "  1) Liear model(Classification / Regrassion): feature들의 가중합"
      ]
    },
    {
      "cell_type": "markdown",
      "metadata": {
        "id": "85vC89zymR2V",
        "colab_type": "text"
      },
      "source": [
        "# 모델을 만드는 process\n",
        "  1. 모델 선택\n",
        "  2. fit(학습)\n",
        "  3. predict"
      ]
    },
    {
      "cell_type": "markdown",
      "metadata": {
        "id": "qIb-DO9whDp4",
        "colab_type": "text"
      },
      "source": [
        "## 키와 몸무게를 가지고 분류하기"
      ]
    },
    {
      "cell_type": "code",
      "metadata": {
        "id": "sg71X4IWhDQy",
        "colab_type": "code",
        "colab": {
          "base_uri": "https://localhost:8080/",
          "height": 539
        },
        "collapsed": true,
        "outputId": "9e02c63c-f436-4a12-a744-20e6e2d29510"
      },
      "source": [
        "import numpy as np\n",
        "import pandas as pd\n",
        "import matplotlib.pyplot as plt\n",
        "\n",
        "n = 200 # 사람의 수\n",
        "x1 = np.random.randn(n)*3 + 170 # randn: 정규분포를 가진 랜덤 수/ *편차 + 평균\n",
        "y1 = x1*1.1 - 120 + np.random.randn(n)*2  # 몸무게\n",
        "\n",
        "x2 = np.random.randn(n)*2 + 162 # 여성\n",
        "y2 = x2*1.2 - 140 + np.random.randn(n)*2\n",
        "\n",
        "plt.hist(x1, bins=10)\n",
        "plt.hist(y1, bins=10)\n",
        "plt.hist(x2, bins=10)\n",
        "plt.hist(y2, bins=10); plt.show()\n",
        "\n",
        "plt.scatter(x1,y1)\n",
        "plt.scatter(x2,y2)"
      ],
      "execution_count": 181,
      "outputs": [
        {
          "output_type": "display_data",
          "data": {
            "image/png": "[encoded data removed]",
            "text/plain": [
              "<Figure size 432x288 with 1 Axes>"
            ]
          },
          "metadata": {
            "tags": []
          }
        },
        {
          "output_type": "execute_result",
          "data": {
            "text/plain": [
              "<matplotlib.collections.PathCollection at 0x7f2cdb14dc50>"
            ]
          },
          "metadata": {
            "tags": []
          },
          "execution_count": 181
        },
        {
          "output_type": "display_data",
          "data": {
            "image/png": "[encoded data removed]",
            "text/plain": [
              "<Figure size 432x288 with 1 Axes>"
            ]
          },
          "metadata": {
            "tags": []
          }
        }
      ]
    },
    {
      "cell_type": "code",
      "metadata": {
        "id": "3DuQ6xvmkEMc",
        "colab_type": "code",
        "colab": {},
        "collapsed": true
      },
      "source": [
        "x = np.hstack((x1, x2))\n",
        "y = np.hstack((y1, y2)) # 데이터 합치기"
      ],
      "execution_count": 0,
      "outputs": []
    },
    {
      "cell_type": "code",
      "metadata": {
        "id": "IH7uwNlx6SoE",
        "colab_type": "code",
        "colab": {
          "base_uri": "https://localhost:8080/",
          "height": 1000
        },
        "collapsed": true,
        "outputId": "12886de8-011b-437a-d94d-b572c5a6ce13"
      },
      "source": [
        "sex = n*[0] + n*[1] # 남성 여성 표시\n",
        "sex1 = n*[0] + n*[1]"
      ],
      "execution_count": 249,
      "outputs": [
        {
          "output_type": "execute_result",
          "data": {
            "text/plain": [
              "[0,\n",
              " 0,\n",
              " 0,\n",
              " 0,\n",
              " 0,\n",
              " 0,\n",
              " 0,\n",
              " 0,\n",
              " 0,\n",
              " 0,\n",
              " 0,\n",
              " 0,\n",
              " 0,\n",
              " 0,\n",
              " 0,\n",
              " 0,\n",
              " 0,\n",
              " 0,\n",
              " 0,\n",
              " 0,\n",
              " 0,\n",
              " 0,\n",
              " 0,\n",
              " 0,\n",
              " 0,\n",
              " 0,\n",
              " 0,\n",
              " 0,\n",
              " 0,\n",
              " 0,\n",
              " 0,\n",
              " 0,\n",
              " 0,\n",
              " 0,\n",
              " 0,\n",
              " 0,\n",
              " 0,\n",
              " 0,\n",
              " 0,\n",
              " 0,\n",
              " 0,\n",
              " 0,\n",
              " 0,\n",
              " 0,\n",
              " 0,\n",
              " 0,\n",
              " 0,\n",
              " 0,\n",
              " 0,\n",
              " 0,\n",
              " 0,\n",
              " 0,\n",
              " 0,\n",
              " 0,\n",
              " 0,\n",
              " 0,\n",
              " 0,\n",
              " 0,\n",
              " 0,\n",
              " 0,\n",
              " 0,\n",
              " 0,\n",
              " 0,\n",
              " 0,\n",
              " 0,\n",
              " 0,\n",
              " 0,\n",
              " 0,\n",
              " 0,\n",
              " 0,\n",
              " 0,\n",
              " 0,\n",
              " 0,\n",
              " 0,\n",
              " 0,\n",
              " 0,\n",
              " 0,\n",
              " 0,\n",
              " 0,\n",
              " 0,\n",
              " 0,\n",
              " 0,\n",
              " 0,\n",
              " 0,\n",
              " 0,\n",
              " 0,\n",
              " 0,\n",
              " 0,\n",
              " 0,\n",
              " 0,\n",
              " 0,\n",
              " 0,\n",
              " 0,\n",
              " 0,\n",
              " 0,\n",
              " 0,\n",
              " 0,\n",
              " 0,\n",
              " 0,\n",
              " 0,\n",
              " 0,\n",
              " 0,\n",
              " 0,\n",
              " 0,\n",
              " 0,\n",
              " 0,\n",
              " 0,\n",
              " 0,\n",
              " 0,\n",
              " 0,\n",
              " 0,\n",
              " 0,\n",
              " 0,\n",
              " 0,\n",
              " 0,\n",
              " 0,\n",
              " 0,\n",
              " 0,\n",
              " 0,\n",
              " 0,\n",
              " 0,\n",
              " 0,\n",
              " 0,\n",
              " 0,\n",
              " 0,\n",
              " 0,\n",
              " 0,\n",
              " 0,\n",
              " 0,\n",
              " 0,\n",
              " 0,\n",
              " 0,\n",
              " 0,\n",
              " 0,\n",
              " 0,\n",
              " 0,\n",
              " 0,\n",
              " 0,\n",
              " 0,\n",
              " 0,\n",
              " 0,\n",
              " 0,\n",
              " 0,\n",
              " 0,\n",
              " 0,\n",
              " 0,\n",
              " 0,\n",
              " 0,\n",
              " 0,\n",
              " 0,\n",
              " 0,\n",
              " 0,\n",
              " 0,\n",
              " 0,\n",
              " 0,\n",
              " 0,\n",
              " 0,\n",
              " 0,\n",
              " 0,\n",
              " 0,\n",
              " 0,\n",
              " 0,\n",
              " 0,\n",
              " 0,\n",
              " 0,\n",
              " 0,\n",
              " 0,\n",
              " 0,\n",
              " 0,\n",
              " 0,\n",
              " 0,\n",
              " 0,\n",
              " 0,\n",
              " 0,\n",
              " 0,\n",
              " 0,\n",
              " 0,\n",
              " 0,\n",
              " 0,\n",
              " 0,\n",
              " 0,\n",
              " 0,\n",
              " 0,\n",
              " 0,\n",
              " 0,\n",
              " 0,\n",
              " 0,\n",
              " 0,\n",
              " 0,\n",
              " 0,\n",
              " 0,\n",
              " 0,\n",
              " 0,\n",
              " 0,\n",
              " 0,\n",
              " 0,\n",
              " 0,\n",
              " 0,\n",
              " 0,\n",
              " 0,\n",
              " 1,\n",
              " 1,\n",
              " 1,\n",
              " 1,\n",
              " 1,\n",
              " 1,\n",
              " 1,\n",
              " 1,\n",
              " 1,\n",
              " 1,\n",
              " 1,\n",
              " 1,\n",
              " 1,\n",
              " 1,\n",
              " 1,\n",
              " 1,\n",
              " 1,\n",
              " 1,\n",
              " 1,\n",
              " 1,\n",
              " 1,\n",
              " 1,\n",
              " 1,\n",
              " 1,\n",
              " 1,\n",
              " 1,\n",
              " 1,\n",
              " 1,\n",
              " 1,\n",
              " 1,\n",
              " 1,\n",
              " 1,\n",
              " 1,\n",
              " 1,\n",
              " 1,\n",
              " 1,\n",
              " 1,\n",
              " 1,\n",
              " 1,\n",
              " 1,\n",
              " 1,\n",
              " 1,\n",
              " 1,\n",
              " 1,\n",
              " 1,\n",
              " 1,\n",
              " 1,\n",
              " 1,\n",
              " 1,\n",
              " 1,\n",
              " 1,\n",
              " 1,\n",
              " 1,\n",
              " 1,\n",
              " 1,\n",
              " 1,\n",
              " 1,\n",
              " 1,\n",
              " 1,\n",
              " 1,\n",
              " 1,\n",
              " 1,\n",
              " 1,\n",
              " 1,\n",
              " 1,\n",
              " 1,\n",
              " 1,\n",
              " 1,\n",
              " 1,\n",
              " 1,\n",
              " 1,\n",
              " 1,\n",
              " 1,\n",
              " 1,\n",
              " 1,\n",
              " 1,\n",
              " 1,\n",
              " 1,\n",
              " 1,\n",
              " 1,\n",
              " 1,\n",
              " 1,\n",
              " 1,\n",
              " 1,\n",
              " 1,\n",
              " 1,\n",
              " 1,\n",
              " 1,\n",
              " 1,\n",
              " 1,\n",
              " 1,\n",
              " 1,\n",
              " 1,\n",
              " 1,\n",
              " 1,\n",
              " 1,\n",
              " 1,\n",
              " 1,\n",
              " 1,\n",
              " 1,\n",
              " 1,\n",
              " 1,\n",
              " 1,\n",
              " 1,\n",
              " 1,\n",
              " 1,\n",
              " 1,\n",
              " 1,\n",
              " 1,\n",
              " 1,\n",
              " 1,\n",
              " 1,\n",
              " 1,\n",
              " 1,\n",
              " 1,\n",
              " 1,\n",
              " 1,\n",
              " 1,\n",
              " 1,\n",
              " 1,\n",
              " 1,\n",
              " 1,\n",
              " 1,\n",
              " 1,\n",
              " 1,\n",
              " 1,\n",
              " 1,\n",
              " 1,\n",
              " 1,\n",
              " 1,\n",
              " 1,\n",
              " 1,\n",
              " 1,\n",
              " 1,\n",
              " 1,\n",
              " 1,\n",
              " 1,\n",
              " 1,\n",
              " 1,\n",
              " 1,\n",
              " 1,\n",
              " 1,\n",
              " 1,\n",
              " 1,\n",
              " 1,\n",
              " 1,\n",
              " 1,\n",
              " 1,\n",
              " 1,\n",
              " 1,\n",
              " 1,\n",
              " 1,\n",
              " 1,\n",
              " 1,\n",
              " 1,\n",
              " 1,\n",
              " 1,\n",
              " 1,\n",
              " 1,\n",
              " 1,\n",
              " 1,\n",
              " 1,\n",
              " 1,\n",
              " 1,\n",
              " 1,\n",
              " 1,\n",
              " 1,\n",
              " 1,\n",
              " 1,\n",
              " 1,\n",
              " 1,\n",
              " 1,\n",
              " 1,\n",
              " 1,\n",
              " 1,\n",
              " 1,\n",
              " 1,\n",
              " 1,\n",
              " 1,\n",
              " 1,\n",
              " 1,\n",
              " 1,\n",
              " 1,\n",
              " 1,\n",
              " 1,\n",
              " 1,\n",
              " 1,\n",
              " 1,\n",
              " 1,\n",
              " 1,\n",
              " 1,\n",
              " 1,\n",
              " 1,\n",
              " 1,\n",
              " 1,\n",
              " 1,\n",
              " 1,\n",
              " 1,\n",
              " 1,\n",
              " 1]"
            ]
          },
          "metadata": {
            "tags": []
          },
          "execution_count": 249
        }
      ]
    },
    {
      "cell_type": "code",
      "metadata": {
        "id": "U1K2IdLI5cr4",
        "colab_type": "code",
        "colab": {
          "base_uri": "https://localhost:8080/",
          "height": 203
        },
        "collapsed": true,
        "outputId": "183b95d9-fc7d-428d-c2cb-1740f9622610"
      },
      "source": [
        "# 데이터 프레임 만들기\n",
        "dict = {'height': x, 'weight': y}\n",
        "df = pd.DataFrame(dict)\n",
        "df[\"sex\"] = sex1\n",
        "nat = np.random.randint(0,3,400)\n",
        "df[\"nationality\"] = nat\n",
        "df.head()"
      ],
      "execution_count": 251,
      "outputs": [
        {
          "output_type": "execute_result",
          "data": {
            "text/html": [
              "<div>\n",
              "<style scoped>\n",
              "    .dataframe tbody tr th:only-of-type {\n",
              "        vertical-align: middle;\n",
              "    }\n",
              "\n",
              "    .dataframe tbody tr th {\n",
              "        vertical-align: top;\n",
              "    }\n",
              "\n",
              "    .dataframe thead th {\n",
              "        text-align: right;\n",
              "    }\n",
              "</style>\n",
              "<table border=\"1\" class=\"dataframe\">\n",
              "  <thead>\n",
              "    <tr style=\"text-align: right;\">\n",
              "      <th></th>\n",
              "      <th>height</th>\n",
              "      <th>weight</th>\n",
              "      <th>sex</th>\n",
              "      <th>nationality</th>\n",
              "    </tr>\n",
              "  </thead>\n",
              "  <tbody>\n",
              "    <tr>\n",
              "      <th>0</th>\n",
              "      <td>173.671671</td>\n",
              "      <td>69.698295</td>\n",
              "      <td>0</td>\n",
              "      <td>1</td>\n",
              "    </tr>\n",
              "    <tr>\n",
              "      <th>1</th>\n",
              "      <td>176.439569</td>\n",
              "      <td>79.698035</td>\n",
              "      <td>0</td>\n",
              "      <td>0</td>\n",
              "    </tr>\n",
              "    <tr>\n",
              "      <th>2</th>\n",
              "      <td>175.432964</td>\n",
              "      <td>71.114178</td>\n",
              "      <td>0</td>\n",
              "      <td>1</td>\n",
              "    </tr>\n",
              "    <tr>\n",
              "      <th>3</th>\n",
              "      <td>166.225493</td>\n",
              "      <td>57.887028</td>\n",
              "      <td>0</td>\n",
              "      <td>2</td>\n",
              "    </tr>\n",
              "    <tr>\n",
              "      <th>4</th>\n",
              "      <td>169.313607</td>\n",
              "      <td>64.329060</td>\n",
              "      <td>0</td>\n",
              "      <td>2</td>\n",
              "    </tr>\n",
              "  </tbody>\n",
              "</table>\n",
              "</div>"
            ],
            "text/plain": [
              "       height     weight  sex  nationality\n",
              "0  173.671671  69.698295    0            1\n",
              "1  176.439569  79.698035    0            0\n",
              "2  175.432964  71.114178    0            1\n",
              "3  166.225493  57.887028    0            2\n",
              "4  169.313607  64.329060    0            2"
            ]
          },
          "metadata": {
            "tags": []
          },
          "execution_count": 251
        }
      ]
    },
    {
      "cell_type": "code",
      "metadata": {
        "id": "4mlVehm1Kxhu",
        "colab_type": "code",
        "colab": {}
      },
      "source": [
        "# one hot encoding\n",
        "nat = pd.get_dummies(df['nationality'], prefix = 'nat')\n"
      ],
      "execution_count": 0,
      "outputs": []
    },
    {
      "cell_type": "markdown",
      "metadata": {
        "id": "EKyARD-x8Ys_",
        "colab_type": "text"
      },
      "source": [
        "* 성별이 변수로 들어가면 카테고리 변수라고 함.\n",
        "* 머신러닝에서 가장 대충 예측하는것: 평균치\n",
        "* 모델 평가 시 R-squre를 많이 쓴다.\n",
        "* $R^2 =1- \\frac{\\sum_{i=1}^n (y_i-\\hat y_i)^2} {\\sum_{i=1}^n (y_i-\\bar y_i)^2}$"
      ]
    },
    {
      "cell_type": "markdown",
      "metadata": {
        "id": "zr-yIPWnj0Ko",
        "colab_type": "text"
      },
      "source": [
        "## 모델 만들기 (학습하기)"
      ]
    },
    {
      "cell_type": "code",
      "metadata": {
        "id": "1yclphUL_bV6",
        "colab_type": "code",
        "colab": {}
      },
      "source": [
        "# 변수와 결과 값 나눠주기\n",
        "x = df[['height', 'sex']]\n",
        "# x = df[['height']]\n",
        "y = df[['weight']]"
      ],
      "execution_count": 0,
      "outputs": []
    },
    {
      "cell_type": "code",
      "metadata": {
        "id": "7UBbhA2RMkPt",
        "colab_type": "code",
        "colab": {}
      },
      "source": [
        "# classification 문제 풀기\n",
        "x = df[['height', 'weight']]\n",
        "y = df['sex']"
      ],
      "execution_count": 0,
      "outputs": []
    },
    {
      "cell_type": "code",
      "metadata": {
        "id": "4E13Lx2G_450",
        "colab_type": "code",
        "colab": {
          "base_uri": "https://localhost:8080/",
          "height": 35
        },
        "outputId": "d3352899-6b6f-461e-8e65-016fa7419f58"
      },
      "source": [
        "# 훈련데이터와 테스트 데이터 나눠주기\n",
        "from sklearn.model_selection import train_test_split \n",
        "x_train, x_test, y_train, y_test = train_test_split(x,y) # 3/4 훈련, 1/4 시험\n",
        "x_train.shape, x_test.shape, y_train.shape, y_test.shape"
      ],
      "execution_count": 264,
      "outputs": [
        {
          "output_type": "execute_result",
          "data": {
            "text/plain": [
              "((300, 2), (100, 2), (300,), (100,))"
            ]
          },
          "metadata": {
            "tags": []
          },
          "execution_count": 264
        }
      ]
    },
    {
      "cell_type": "code",
      "metadata": {
        "id": "ilW3huXWjCQj",
        "colab_type": "code",
        "colab": {
          "base_uri": "https://localhost:8080/",
          "height": 35
        },
        "outputId": "42ec71aa-3648-40c4-cce4-f87d218a4c64"
      },
      "source": [
        "from sklearn.linear_model import LinearRegression\n",
        "model = LinearRegression()\n",
        "model.fit(x_train, y_train)\n",
        "model.score(x_test, y_test) # R-squre 값"
      ],
      "execution_count": 260,
      "outputs": [
        {
          "output_type": "execute_result",
          "data": {
            "text/plain": [
              "0.729436291470921"
            ]
          },
          "metadata": {
            "tags": []
          },
          "execution_count": 260
        }
      ]
    },
    {
      "cell_type": "code",
      "metadata": {
        "id": "hAimYY3sNC91",
        "colab_type": "code",
        "colab": {
          "base_uri": "https://localhost:8080/",
          "height": 35
        },
        "outputId": "88070968-7435-4cc1-e83e-a79408a9fe84"
      },
      "source": [
        "from sklearn.linear_model import SGDClassifier\n",
        "model = SGDClassifier()\n",
        "model.fit(x_train, y_train)\n",
        "model.score(x_test, y_test) "
      ],
      "execution_count": 266,
      "outputs": [
        {
          "output_type": "execute_result",
          "data": {
            "text/plain": [
              "0.91"
            ]
          },
          "metadata": {
            "tags": []
          },
          "execution_count": 266
        }
      ]
    },
    {
      "cell_type": "code",
      "metadata": {
        "id": "6Rj_JFFrHA10",
        "colab_type": "code",
        "colab": {
          "base_uri": "https://localhost:8080/",
          "height": 35
        },
        "outputId": "2baf282a-4323-4e5e-e146-9d9e061bf77b"
      },
      "source": [
        "model.coef_, model.intercept_"
      ],
      "execution_count": 243,
      "outputs": [
        {
          "output_type": "execute_result",
          "data": {
            "text/plain": [
              "(array([[ 1.09259314, -4.00894604]]), array([-118.72871488]))"
            ]
          },
          "metadata": {
            "tags": []
          },
          "execution_count": 243
        }
      ]
    },
    {
      "cell_type": "code",
      "metadata": {
        "id": "tc_DOZStA1ci",
        "colab_type": "code",
        "colab": {}
      },
      "source": [
        "\n",
        "# model.coef_ # a 가중치\n",
        "# model.intercept_ # b\n",
        "\n",
        "# a, b = model.coef_, model.intercept_\n",
        "# a, b"
      ],
      "execution_count": 0,
      "outputs": []
    },
    {
      "cell_type": "code",
      "metadata": {
        "id": "DE7EoQ4Nr9V0",
        "colab_type": "code",
        "colab": {
          "base_uri": "https://localhost:8080/",
          "height": 287
        },
        "outputId": "6d8f7e06-4c4f-4eee-e856-0ee1594f6558"
      },
      "source": [
        "plt.scatter(x,y)\n",
        "xx = np.linspace(160, 180, 10)\n",
        "yy = a*xx + b\n",
        "plt.plot(xx,yy, c = 'r')"
      ],
      "execution_count": 150,
      "outputs": [
        {
          "output_type": "execute_result",
          "data": {
            "text/plain": [
              "[<matplotlib.lines.Line2D at 0x7f2cdb45db00>]"
            ]
          },
          "metadata": {
            "tags": []
          },
          "execution_count": 150
        },
        {
          "output_type": "display_data",
          "data": {
            "image/png": "[encoded data removed]",
            "text/plain": [
              "<Figure size 432x288 with 1 Axes>"
            ]
          },
          "metadata": {
            "tags": []
          }
        }
      ]
    },
    {
      "cell_type": "code",
      "metadata": {
        "id": "x2RH7RVosFrL",
        "colab_type": "code",
        "colab": {}
      },
      "source": [
        ""
      ],
      "execution_count": 0,
      "outputs": []
    },
    {
      "cell_type": "markdown",
      "metadata": {
        "id": "LjX1zAEVlyhN",
        "colab_type": "text"
      },
      "source": [
        "## 결과 사용하기. 예측하기"
      ]
    },
    {
      "cell_type": "code",
      "metadata": {
        "id": "1FdPucKClx3h",
        "colab_type": "code",
        "colab": {
          "base_uri": "https://localhost:8080/",
          "height": 35
        },
        "outputId": "a5d0e696-4617-40a3-ceb7-211e871a8362"
      },
      "source": [
        "sample = [[180], [170], [160]]\n",
        "model.predict(sample)"
      ],
      "execution_count": 144,
      "outputs": [
        {
          "output_type": "execute_result",
          "data": {
            "text/plain": [
              "array([78.96550769, 67.14102787, 55.31654806])"
            ]
          },
          "metadata": {
            "tags": []
          },
          "execution_count": 144
        }
      ]
    },
    {
      "cell_type": "code",
      "metadata": {
        "id": "n1v-u2rJk27c",
        "colab_type": "code",
        "colab": {
          "base_uri": "https://localhost:8080/",
          "height": 35
        },
        "outputId": "f86f8701-dd83-46d5-bd81-59a23b2457e0"
      },
      "source": [
        "z = np.arange(12);z # 1차원 벡터"
      ],
      "execution_count": 139,
      "outputs": [
        {
          "output_type": "execute_result",
          "data": {
            "text/plain": [
              "array([ 0,  1,  2,  3,  4,  5,  6,  7,  8,  9, 10, 11])"
            ]
          },
          "metadata": {
            "tags": []
          },
          "execution_count": 139
        }
      ]
    },
    {
      "cell_type": "code",
      "metadata": {
        "id": "rhHvVBfcpodO",
        "colab_type": "code",
        "colab": {
          "base_uri": "https://localhost:8080/",
          "height": 127
        },
        "outputId": "7ce241e0-eab3-4723-fa5f-7b0a23fbbb8b"
      },
      "source": [
        "z.reshape(-1,2) # 2차원 array"
      ],
      "execution_count": 143,
      "outputs": [
        {
          "output_type": "execute_result",
          "data": {
            "text/plain": [
              "array([[ 0,  1],\n",
              "       [ 2,  3],\n",
              "       [ 4,  5],\n",
              "       [ 6,  7],\n",
              "       [ 8,  9],\n",
              "       [10, 11]])"
            ]
          },
          "metadata": {
            "tags": []
          },
          "execution_count": 143
        }
      ]
    },
    {
      "cell_type": "markdown",
      "metadata": {
        "id": "5KbdaA2HtoAj",
        "colab_type": "text"
      },
      "source": [
        "### 최소자승법\n",
        "* $\\frac1N\\sum|e|^2$\n",
        "* $e^2 = (\\hat{y} - y)^2 = (ax+b-y)^2$\n",
        "* Loss fuction 을 2차 함수로 해야 미분했을 때 1차 함수가 된다. \n",
        "* batch size: N\n"
      ]
    },
    {
      "cell_type": "markdown",
      "metadata": {
        "id": "Wjlh68XJw0hU",
        "colab_type": "text"
      },
      "source": [
        "## Gradient Descent 사용해보기\n",
        "* $w=w-\\mu ex$"
      ]
    },
    {
      "cell_type": "code",
      "metadata": {
        "id": "OiDg9WKsw0Ot",
        "colab_type": "code",
        "colab": {
          "base_uri": "https://localhost:8080/",
          "height": 54
        },
        "outputId": "2fb77e36-d766-4a70-da62-537837623241"
      },
      "source": [
        "x = np.random.rand(3)\n",
        "y = x*2 + 3\n",
        "x, y"
      ],
      "execution_count": 153,
      "outputs": [
        {
          "output_type": "execute_result",
          "data": {
            "text/plain": [
              "(array([0.13723626, 0.93477694, 0.60677299]),\n",
              " array([3.27447252, 4.86955388, 4.21354597]))"
            ]
          },
          "metadata": {
            "tags": []
          },
          "execution_count": 153
        }
      ]
    },
    {
      "cell_type": "code",
      "metadata": {
        "id": "IBigCKL8qf3l",
        "colab_type": "code",
        "colab": {
          "base_uri": "https://localhost:8080/",
          "height": 0
        },
        "collapsed": true,
        "outputId": "0e55464a-44a6-4c4b-e91d-726afba0b97b"
      },
      "source": [
        "# learning rate, 학습속도 (하이퍼파라미터)\n",
        "lr = 1 \n",
        "\n",
        "# 초기값은 랜덤으로\n",
        "a = np.random.rand()\n",
        "b = np.random.rand()\n",
        "\n",
        "# 학습\n",
        "for i in range(50):\n",
        "  y_pred = a*x + b\n",
        "  e = y_pred - y # error\n",
        "  a = a - lr*(e*x).mean() # batch 사이즈 만큼 평균내는 것\n",
        "  b = b - lr*(e).mean()\n",
        "  print('a = ',a, 'b = ',b)"
      ],
      "execution_count": 160,
      "outputs": [
        {
          "output_type": "stream",
          "text": [
            "a =  2.778741381788489 b =  3.6785754519451532\n",
            "a =  2.071730699682535 b =  2.5642199082745325\n",
            "a =  2.285444847708336 b =  2.959859830724037\n",
            "a =  2.1879427031988015 b =  2.840266377483088\n",
            "a =  2.198341898908167 b =  2.8948281286259534\n",
            "a =  2.1738381019790727 b =  2.8890087865875342\n",
            "a =  2.1628890350552634 b =  2.9027209985273426\n",
            "a =  2.148868260703135 b =  2.9088480459656174\n",
            "a =  2.1373113538320445 b =  2.916694006737858\n",
            "a =  2.1262209246192096 b =  2.9231611986119814\n",
            "a =  2.1161724784218983 b =  2.9293673517363277\n",
            "a =  2.1068741753236724 b =  2.934990415962741\n",
            "a =  2.098337045253186 b =  2.940193703564756\n",
            "a =  2.0904760937756173 b =  2.9449710422450823\n",
            "a =  2.083245501202992 b =  2.94936999449811\n",
            "a =  2.076592088813749 b =  2.9534162008102642\n",
            "a =  2.070470679101202 b =  2.9571394197492813\n",
            "a =  2.064838428629823 b =  2.9605649324398957\n",
            "a =  2.0596563526476195 b =  2.963716713871366\n",
            "a =  2.054888434297949 b =  2.9666165797314115\n",
            "a =  2.0505015856322224 b =  2.9692846848871777\n",
            "a =  2.0464653460602102 b =  2.971739545202352\n",
            "a =  2.042751695324403 b =  2.9739982062829764\n",
            "a =  2.0393348506465796 b =  2.976076348136142\n",
            "a =  2.0361910905614122 b =  2.9779883986858295\n",
            "a =  2.0332985892648874 b =  2.9797476323548184\n",
            "a =  2.030637265415416 b =  2.9813662627625424\n",
            "a =  2.0281886426062696 b =  2.982855527335295\n",
            "a =  2.0259357211300264 b =  2.9842257653852107\n",
            "a =  2.0238628599441544 b =  2.985486489870293\n",
            "a =  2.021955668086542 b =  2.986646453445927\n",
            "a =  2.0202009047638887 b =  2.9877137092282506\n",
            "a =  2.018586387427218 b =  2.988695666704231\n",
            "a =  2.0171009071936283 b =  2.989599143172183\n",
            "a =  2.0157341510280182 b =  2.990430411071371\n",
            "a =  2.0144766301442023 b =  2.9911952415287537\n",
            "a =  2.0133196141284544 b =  2.9918989444253907\n",
            "a =  2.0122550703280884 b =  2.9925464052606077\n",
            "a =  2.0112756080842873 b =  2.993142119069862\n",
            "a =  2.0103744274220157 b =  2.9936902216318\n",
            "a =  2.0095452718407842 b =  2.9941945181811422\n",
            "a =  2.0087823848785256 b =  2.994658509826756\n",
            "a =  2.00808047014701 b =  2.9950854178583106\n",
            "a =  2.0074346545613566 b =  2.9954782061102727\n",
            "a =  2.00684045450835 b =  2.995839601538505\n",
            "a =  2.006293744718688 b =  2.9961721131523196\n",
            "a =  2.0057907296270527 b =  2.9964780494334233\n",
            "a =  2.0053279170211753 b =  2.996759534362693\n",
            "a =  2.004902093796939 b =  2.997018522166035\n",
            "a =  2.0045103036512173 b =  2.9972568108817192\n"
          ],
          "name": "stdout"
        }
      ]
    }
  ]
}